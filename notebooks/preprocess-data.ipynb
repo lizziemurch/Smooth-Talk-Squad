{
 "cells": [
  {
   "cell_type": "markdown",
   "id": "54db42fb-f244-420d-a586-732f60a60b29",
   "metadata": {},
   "source": [
    "# Data Preprocessing"
   ]
  },
  {
   "cell_type": "markdown",
   "id": "eceb8e81-8e7c-4b61-ada8-d40fbfebcc4f",
   "metadata": {},
   "source": [
    "## 0. Preprocess Plan \n",
    "1. Preprocess `SEP-28k_labels.csv` file\n",
    " - Create new column including unique audio id (Show-EpId-ClipId)\n",
    " - Create isStutter columns\n",
    " - Encode Interjection, NaturalPause, Music columns \n",
    " - Drop rows in which Unsure, PoorAudioQuality, DifficultToUnderstand, noSpeech is not 0\n",
    " - Drop unused columns\n",
    "2. Preprocess audio files\n",
    " - Use MCFF\n",
    "3. Combine above two datasets into one csv file "
   ]
  },
  {
   "cell_type": "markdown",
   "id": "c5a313fa-5b77-4718-a6fb-7ab69508f07b",
   "metadata": {},
   "source": [
    "### Your file structure should look like below :\n",
    "&#x2757; Make sure you put `clips` folder outside of Smooth-Talk-Squad folder"
   ]
  },
  {
   "cell_type": "code",
   "execution_count": 1,
   "id": "e6a48eef-0228-4425-a528-8782c95aa0f0",
   "metadata": {},
   "outputs": [],
   "source": [
    "'''\n",
    "├── clips\n",
    "    ├── HeStutters_0_0.wav\n",
    "└── Smooth-Talk-Squad\n",
    "    ├── raw_data\n",
    "        ├── SEP-28k_labels.csv\n",
    "    └── notebooks\n",
    "        ├── data-processing.ipynb\n",
    "''';"
   ]
  },
  {
   "cell_type": "code",
   "execution_count": 2,
   "id": "9d3eff3d-10e8-4ae8-aef1-0c8ab8fa5fc0",
   "metadata": {},
   "outputs": [
    {
     "name": "stdout",
     "output_type": "stream",
     "text": [
      "Requirement already satisfied: pandas in /Users/weilinlin/.pyenv/versions/3.10.6/envs/Smooth-Talk-Squad/lib/python3.10/site-packages (2.2.1)\n",
      "Requirement already satisfied: numpy<2,>=1.22.4 in /Users/weilinlin/.pyenv/versions/3.10.6/envs/Smooth-Talk-Squad/lib/python3.10/site-packages (from pandas) (1.26.4)\n",
      "Requirement already satisfied: python-dateutil>=2.8.2 in /Users/weilinlin/.pyenv/versions/3.10.6/envs/Smooth-Talk-Squad/lib/python3.10/site-packages (from pandas) (2.8.2)\n",
      "Requirement already satisfied: pytz>=2020.1 in /Users/weilinlin/.pyenv/versions/3.10.6/envs/Smooth-Talk-Squad/lib/python3.10/site-packages (from pandas) (2024.1)\n",
      "Requirement already satisfied: tzdata>=2022.7 in /Users/weilinlin/.pyenv/versions/3.10.6/envs/Smooth-Talk-Squad/lib/python3.10/site-packages (from pandas) (2024.1)\n",
      "Requirement already satisfied: six>=1.5 in /Users/weilinlin/.pyenv/versions/3.10.6/envs/Smooth-Talk-Squad/lib/python3.10/site-packages (from python-dateutil>=2.8.2->pandas) (1.16.0)\n",
      "\n",
      "\u001b[1m[\u001b[0m\u001b[34;49mnotice\u001b[0m\u001b[1;39;49m]\u001b[0m\u001b[39;49m A new release of pip available: \u001b[0m\u001b[31;49m22.2.1\u001b[0m\u001b[39;49m -> \u001b[0m\u001b[32;49m24.0\u001b[0m\n",
      "\u001b[1m[\u001b[0m\u001b[34;49mnotice\u001b[0m\u001b[1;39;49m]\u001b[0m\u001b[39;49m To update, run: \u001b[0m\u001b[32;49mpython3.10 -m pip install --upgrade pip\u001b[0m\n",
      "Requirement already satisfied: numpy in /Users/weilinlin/.pyenv/versions/3.10.6/envs/Smooth-Talk-Squad/lib/python3.10/site-packages (1.26.4)\n",
      "\n",
      "\u001b[1m[\u001b[0m\u001b[34;49mnotice\u001b[0m\u001b[1;39;49m]\u001b[0m\u001b[39;49m A new release of pip available: \u001b[0m\u001b[31;49m22.2.1\u001b[0m\u001b[39;49m -> \u001b[0m\u001b[32;49m24.0\u001b[0m\n",
      "\u001b[1m[\u001b[0m\u001b[34;49mnotice\u001b[0m\u001b[1;39;49m]\u001b[0m\u001b[39;49m To update, run: \u001b[0m\u001b[32;49mpython3.10 -m pip install --upgrade pip\u001b[0m\n",
      "Requirement already satisfied: tqdm in /Users/weilinlin/.pyenv/versions/3.10.6/envs/Smooth-Talk-Squad/lib/python3.10/site-packages (4.66.2)\n",
      "\n",
      "\u001b[1m[\u001b[0m\u001b[34;49mnotice\u001b[0m\u001b[1;39;49m]\u001b[0m\u001b[39;49m A new release of pip available: \u001b[0m\u001b[31;49m22.2.1\u001b[0m\u001b[39;49m -> \u001b[0m\u001b[32;49m24.0\u001b[0m\n",
      "\u001b[1m[\u001b[0m\u001b[34;49mnotice\u001b[0m\u001b[1;39;49m]\u001b[0m\u001b[39;49m To update, run: \u001b[0m\u001b[32;49mpython3.10 -m pip install --upgrade pip\u001b[0m\n",
      "Requirement already satisfied: librosa in /Users/weilinlin/.pyenv/versions/3.10.6/envs/Smooth-Talk-Squad/lib/python3.10/site-packages (0.10.1)\n",
      "Requirement already satisfied: numba>=0.51.0 in /Users/weilinlin/.pyenv/versions/3.10.6/envs/Smooth-Talk-Squad/lib/python3.10/site-packages (from librosa) (0.59.0)\n",
      "Requirement already satisfied: pooch>=1.0 in /Users/weilinlin/.pyenv/versions/3.10.6/envs/Smooth-Talk-Squad/lib/python3.10/site-packages (from librosa) (1.8.1)\n",
      "Requirement already satisfied: soxr>=0.3.2 in /Users/weilinlin/.pyenv/versions/3.10.6/envs/Smooth-Talk-Squad/lib/python3.10/site-packages (from librosa) (0.3.7)\n",
      "Requirement already satisfied: soundfile>=0.12.1 in /Users/weilinlin/.pyenv/versions/3.10.6/envs/Smooth-Talk-Squad/lib/python3.10/site-packages (from librosa) (0.12.1)\n",
      "Requirement already satisfied: typing-extensions>=4.1.1 in /Users/weilinlin/.pyenv/versions/3.10.6/envs/Smooth-Talk-Squad/lib/python3.10/site-packages (from librosa) (4.10.0)\n",
      "Requirement already satisfied: scipy>=1.2.0 in /Users/weilinlin/.pyenv/versions/3.10.6/envs/Smooth-Talk-Squad/lib/python3.10/site-packages (from librosa) (1.12.0)\n",
      "Requirement already satisfied: decorator>=4.3.0 in /Users/weilinlin/.pyenv/versions/3.10.6/envs/Smooth-Talk-Squad/lib/python3.10/site-packages (from librosa) (5.1.1)\n",
      "Requirement already satisfied: scikit-learn>=0.20.0 in /Users/weilinlin/.pyenv/versions/3.10.6/envs/Smooth-Talk-Squad/lib/python3.10/site-packages (from librosa) (1.4.1.post1)\n",
      "Requirement already satisfied: lazy-loader>=0.1 in /Users/weilinlin/.pyenv/versions/3.10.6/envs/Smooth-Talk-Squad/lib/python3.10/site-packages (from librosa) (0.3)\n",
      "Requirement already satisfied: numpy!=1.22.0,!=1.22.1,!=1.22.2,>=1.20.3 in /Users/weilinlin/.pyenv/versions/3.10.6/envs/Smooth-Talk-Squad/lib/python3.10/site-packages (from librosa) (1.26.4)\n",
      "Requirement already satisfied: msgpack>=1.0 in /Users/weilinlin/.pyenv/versions/3.10.6/envs/Smooth-Talk-Squad/lib/python3.10/site-packages (from librosa) (1.0.7)\n",
      "Requirement already satisfied: audioread>=2.1.9 in /Users/weilinlin/.pyenv/versions/3.10.6/envs/Smooth-Talk-Squad/lib/python3.10/site-packages (from librosa) (3.0.1)\n",
      "Requirement already satisfied: joblib>=0.14 in /Users/weilinlin/.pyenv/versions/3.10.6/envs/Smooth-Talk-Squad/lib/python3.10/site-packages (from librosa) (1.3.2)\n",
      "Requirement already satisfied: llvmlite<0.43,>=0.42.0dev0 in /Users/weilinlin/.pyenv/versions/3.10.6/envs/Smooth-Talk-Squad/lib/python3.10/site-packages (from numba>=0.51.0->librosa) (0.42.0)\n",
      "Requirement already satisfied: packaging>=20.0 in /Users/weilinlin/.pyenv/versions/3.10.6/envs/Smooth-Talk-Squad/lib/python3.10/site-packages (from pooch>=1.0->librosa) (23.2)\n",
      "Requirement already satisfied: platformdirs>=2.5.0 in /Users/weilinlin/.pyenv/versions/3.10.6/envs/Smooth-Talk-Squad/lib/python3.10/site-packages (from pooch>=1.0->librosa) (4.2.0)\n",
      "Requirement already satisfied: requests>=2.19.0 in /Users/weilinlin/.pyenv/versions/3.10.6/envs/Smooth-Talk-Squad/lib/python3.10/site-packages (from pooch>=1.0->librosa) (2.31.0)\n",
      "Requirement already satisfied: threadpoolctl>=2.0.0 in /Users/weilinlin/.pyenv/versions/3.10.6/envs/Smooth-Talk-Squad/lib/python3.10/site-packages (from scikit-learn>=0.20.0->librosa) (3.3.0)\n",
      "Requirement already satisfied: cffi>=1.0 in /Users/weilinlin/.pyenv/versions/3.10.6/envs/Smooth-Talk-Squad/lib/python3.10/site-packages (from soundfile>=0.12.1->librosa) (1.16.0)\n",
      "Requirement already satisfied: pycparser in /Users/weilinlin/.pyenv/versions/3.10.6/envs/Smooth-Talk-Squad/lib/python3.10/site-packages (from cffi>=1.0->soundfile>=0.12.1->librosa) (2.21)\n",
      "Requirement already satisfied: certifi>=2017.4.17 in /Users/weilinlin/.pyenv/versions/3.10.6/envs/Smooth-Talk-Squad/lib/python3.10/site-packages (from requests>=2.19.0->pooch>=1.0->librosa) (2024.2.2)\n",
      "Requirement already satisfied: urllib3<3,>=1.21.1 in /Users/weilinlin/.pyenv/versions/3.10.6/envs/Smooth-Talk-Squad/lib/python3.10/site-packages (from requests>=2.19.0->pooch>=1.0->librosa) (2.2.1)\n",
      "Requirement already satisfied: idna<4,>=2.5 in /Users/weilinlin/.pyenv/versions/3.10.6/envs/Smooth-Talk-Squad/lib/python3.10/site-packages (from requests>=2.19.0->pooch>=1.0->librosa) (3.6)\n",
      "Requirement already satisfied: charset-normalizer<4,>=2 in /Users/weilinlin/.pyenv/versions/3.10.6/envs/Smooth-Talk-Squad/lib/python3.10/site-packages (from requests>=2.19.0->pooch>=1.0->librosa) (3.3.2)\n",
      "\n",
      "\u001b[1m[\u001b[0m\u001b[34;49mnotice\u001b[0m\u001b[1;39;49m]\u001b[0m\u001b[39;49m A new release of pip available: \u001b[0m\u001b[31;49m22.2.1\u001b[0m\u001b[39;49m -> \u001b[0m\u001b[32;49m24.0\u001b[0m\n",
      "\u001b[1m[\u001b[0m\u001b[34;49mnotice\u001b[0m\u001b[1;39;49m]\u001b[0m\u001b[39;49m To update, run: \u001b[0m\u001b[32;49mpython3.10 -m pip install --upgrade pip\u001b[0m\n"
     ]
    }
   ],
   "source": [
    "! pip install pandas\n",
    "! pip install numpy\n",
    "! pip install tqdm\n",
    "! pip install librosa"
   ]
  },
  {
   "cell_type": "markdown",
   "id": "b1ad0437-100b-4f96-8c6f-80ebbbeda721",
   "metadata": {},
   "source": [
    "## 1. Preprocess `SEP-28k_labels.csv` file"
   ]
  },
  {
   "cell_type": "code",
   "execution_count": 3,
   "id": "a955c403-d872-40fa-aa68-3c7e6f689ff2",
   "metadata": {},
   "outputs": [],
   "source": [
    "import numpy as np\n",
    "import pandas as pd"
   ]
  },
  {
   "cell_type": "code",
   "execution_count": 4,
   "id": "25f0945a-71cf-40f2-aa8d-e8b04d2b3e0b",
   "metadata": {},
   "outputs": [],
   "source": [
    "data_sep28k_labels = pd.read_csv('../raw_data/SEP-28k_labels.csv')"
   ]
  },
  {
   "cell_type": "code",
   "execution_count": 5,
   "id": "cdc6bbff-f9d1-46d3-990a-70906903811d",
   "metadata": {},
   "outputs": [
    {
     "data": {
      "text/html": [
       "<div>\n",
       "<style scoped>\n",
       "    .dataframe tbody tr th:only-of-type {\n",
       "        vertical-align: middle;\n",
       "    }\n",
       "\n",
       "    .dataframe tbody tr th {\n",
       "        vertical-align: top;\n",
       "    }\n",
       "\n",
       "    .dataframe thead th {\n",
       "        text-align: right;\n",
       "    }\n",
       "</style>\n",
       "<table border=\"1\" class=\"dataframe\">\n",
       "  <thead>\n",
       "    <tr style=\"text-align: right;\">\n",
       "      <th></th>\n",
       "      <th>Show</th>\n",
       "      <th>EpId</th>\n",
       "      <th>ClipId</th>\n",
       "      <th>Start</th>\n",
       "      <th>Stop</th>\n",
       "      <th>Unsure</th>\n",
       "      <th>PoorAudioQuality</th>\n",
       "      <th>Prolongation</th>\n",
       "      <th>Block</th>\n",
       "      <th>SoundRep</th>\n",
       "      <th>WordRep</th>\n",
       "      <th>DifficultToUnderstand</th>\n",
       "      <th>Interjection</th>\n",
       "      <th>NoStutteredWords</th>\n",
       "      <th>NaturalPause</th>\n",
       "      <th>Music</th>\n",
       "      <th>NoSpeech</th>\n",
       "    </tr>\n",
       "  </thead>\n",
       "  <tbody>\n",
       "    <tr>\n",
       "      <th>0</th>\n",
       "      <td>HeStutters</td>\n",
       "      <td>0</td>\n",
       "      <td>0</td>\n",
       "      <td>31900320</td>\n",
       "      <td>31948320</td>\n",
       "      <td>0</td>\n",
       "      <td>0</td>\n",
       "      <td>0</td>\n",
       "      <td>0</td>\n",
       "      <td>0</td>\n",
       "      <td>0</td>\n",
       "      <td>0</td>\n",
       "      <td>0</td>\n",
       "      <td>3</td>\n",
       "      <td>1</td>\n",
       "      <td>0</td>\n",
       "      <td>0</td>\n",
       "    </tr>\n",
       "    <tr>\n",
       "      <th>1</th>\n",
       "      <td>HeStutters</td>\n",
       "      <td>0</td>\n",
       "      <td>1</td>\n",
       "      <td>31977120</td>\n",
       "      <td>32025120</td>\n",
       "      <td>0</td>\n",
       "      <td>0</td>\n",
       "      <td>0</td>\n",
       "      <td>0</td>\n",
       "      <td>0</td>\n",
       "      <td>0</td>\n",
       "      <td>0</td>\n",
       "      <td>0</td>\n",
       "      <td>3</td>\n",
       "      <td>1</td>\n",
       "      <td>0</td>\n",
       "      <td>0</td>\n",
       "    </tr>\n",
       "    <tr>\n",
       "      <th>2</th>\n",
       "      <td>HeStutters</td>\n",
       "      <td>0</td>\n",
       "      <td>2</td>\n",
       "      <td>34809760</td>\n",
       "      <td>34857760</td>\n",
       "      <td>0</td>\n",
       "      <td>0</td>\n",
       "      <td>0</td>\n",
       "      <td>0</td>\n",
       "      <td>0</td>\n",
       "      <td>0</td>\n",
       "      <td>0</td>\n",
       "      <td>0</td>\n",
       "      <td>3</td>\n",
       "      <td>0</td>\n",
       "      <td>0</td>\n",
       "      <td>0</td>\n",
       "    </tr>\n",
       "    <tr>\n",
       "      <th>3</th>\n",
       "      <td>HeStutters</td>\n",
       "      <td>0</td>\n",
       "      <td>3</td>\n",
       "      <td>35200640</td>\n",
       "      <td>35248640</td>\n",
       "      <td>0</td>\n",
       "      <td>0</td>\n",
       "      <td>1</td>\n",
       "      <td>0</td>\n",
       "      <td>0</td>\n",
       "      <td>0</td>\n",
       "      <td>0</td>\n",
       "      <td>0</td>\n",
       "      <td>2</td>\n",
       "      <td>0</td>\n",
       "      <td>0</td>\n",
       "      <td>0</td>\n",
       "    </tr>\n",
       "    <tr>\n",
       "      <th>4</th>\n",
       "      <td>HeStutters</td>\n",
       "      <td>0</td>\n",
       "      <td>4</td>\n",
       "      <td>35721920</td>\n",
       "      <td>35769920</td>\n",
       "      <td>0</td>\n",
       "      <td>0</td>\n",
       "      <td>0</td>\n",
       "      <td>0</td>\n",
       "      <td>0</td>\n",
       "      <td>0</td>\n",
       "      <td>0</td>\n",
       "      <td>0</td>\n",
       "      <td>3</td>\n",
       "      <td>0</td>\n",
       "      <td>0</td>\n",
       "      <td>0</td>\n",
       "    </tr>\n",
       "  </tbody>\n",
       "</table>\n",
       "</div>"
      ],
      "text/plain": [
       "         Show  EpId  ClipId     Start      Stop  Unsure  PoorAudioQuality  \\\n",
       "0  HeStutters     0       0  31900320  31948320       0                 0   \n",
       "1  HeStutters     0       1  31977120  32025120       0                 0   \n",
       "2  HeStutters     0       2  34809760  34857760       0                 0   \n",
       "3  HeStutters     0       3  35200640  35248640       0                 0   \n",
       "4  HeStutters     0       4  35721920  35769920       0                 0   \n",
       "\n",
       "   Prolongation  Block  SoundRep  WordRep  DifficultToUnderstand  \\\n",
       "0             0      0         0        0                      0   \n",
       "1             0      0         0        0                      0   \n",
       "2             0      0         0        0                      0   \n",
       "3             1      0         0        0                      0   \n",
       "4             0      0         0        0                      0   \n",
       "\n",
       "   Interjection  NoStutteredWords  NaturalPause  Music  NoSpeech  \n",
       "0             0                 3             1      0         0  \n",
       "1             0                 3             1      0         0  \n",
       "2             0                 3             0      0         0  \n",
       "3             0                 2             0      0         0  \n",
       "4             0                 3             0      0         0  "
      ]
     },
     "execution_count": 5,
     "metadata": {},
     "output_type": "execute_result"
    }
   ],
   "source": [
    "data_sep28k_labels.head(5)"
   ]
  },
  {
   "cell_type": "markdown",
   "id": "af9aee66-e5b1-4cd7-8a1f-d7bf05097c4d",
   "metadata": {},
   "source": [
    "### Look into dataset"
   ]
  },
  {
   "cell_type": "code",
   "execution_count": 6,
   "id": "20849faa-c070-4816-b51d-b4403f5d5dac",
   "metadata": {},
   "outputs": [
    {
     "data": {
      "text/plain": [
       "(28177, 17)"
      ]
     },
     "execution_count": 6,
     "metadata": {},
     "output_type": "execute_result"
    }
   ],
   "source": [
    "data_sep28k_labels.shape"
   ]
  },
  {
   "cell_type": "code",
   "execution_count": 7,
   "id": "2b3be901-9ccb-490f-829f-0959b2683aab",
   "metadata": {},
   "outputs": [
    {
     "data": {
      "text/plain": [
       "Index(['Show', 'EpId', 'ClipId', 'Start', 'Stop', 'Unsure', 'PoorAudioQuality',\n",
       "       'Prolongation', 'Block', 'SoundRep', 'WordRep', 'DifficultToUnderstand',\n",
       "       'Interjection', 'NoStutteredWords', 'NaturalPause', 'Music',\n",
       "       'NoSpeech'],\n",
       "      dtype='object')"
      ]
     },
     "execution_count": 7,
     "metadata": {},
     "output_type": "execute_result"
    }
   ],
   "source": [
    "data_sep28k_labels.columns"
   ]
  },
  {
   "cell_type": "code",
   "execution_count": 8,
   "id": "a0e11f01-14b0-48ce-93c0-591f0ba48b85",
   "metadata": {},
   "outputs": [
    {
     "data": {
      "text/plain": [
       "Unsure\n",
       "0         27409\n",
       "1           744\n",
       "2            24\n",
       "Name: count, dtype: int64"
      ]
     },
     "execution_count": 8,
     "metadata": {},
     "output_type": "execute_result"
    }
   ],
   "source": [
    "data_sep28k_labels[[\"Unsure\"]].value_counts()"
   ]
  },
  {
   "cell_type": "code",
   "execution_count": 9,
   "id": "19b844ba-6b67-486d-a571-4f27f16651f8",
   "metadata": {},
   "outputs": [
    {
     "data": {
      "text/plain": [
       "PoorAudioQuality\n",
       "0                   25267\n",
       "1                    2328\n",
       "2                     481\n",
       "3                     101\n",
       "Name: count, dtype: int64"
      ]
     },
     "execution_count": 9,
     "metadata": {},
     "output_type": "execute_result"
    }
   ],
   "source": [
    "data_sep28k_labels[[\"PoorAudioQuality\"]].value_counts()"
   ]
  },
  {
   "cell_type": "code",
   "execution_count": 10,
   "id": "3070eeb2-b81d-454f-ad61-d90b0a1e19c1",
   "metadata": {},
   "outputs": [
    {
     "data": {
      "text/plain": [
       "DifficultToUnderstand\n",
       "0                        23305\n",
       "1                         3834\n",
       "2                          884\n",
       "3                          154\n",
       "Name: count, dtype: int64"
      ]
     },
     "execution_count": 10,
     "metadata": {},
     "output_type": "execute_result"
    }
   ],
   "source": [
    "data_sep28k_labels[[\"DifficultToUnderstand\"]].value_counts()"
   ]
  },
  {
   "cell_type": "code",
   "execution_count": 11,
   "id": "24e3cad0-8cf2-4f39-942c-4185833c27af",
   "metadata": {},
   "outputs": [
    {
     "data": {
      "text/plain": [
       "NoSpeech\n",
       "0           27202\n",
       "1             667\n",
       "2             178\n",
       "3             130\n",
       "Name: count, dtype: int64"
      ]
     },
     "execution_count": 11,
     "metadata": {},
     "output_type": "execute_result"
    }
   ],
   "source": [
    "data_sep28k_labels[[\"NoSpeech\"]].value_counts()"
   ]
  },
  {
   "cell_type": "code",
   "execution_count": 12,
   "id": "43767c74-3a0c-4bb8-bc8b-505025307df1",
   "metadata": {},
   "outputs": [
    {
     "data": {
      "text/plain": [
       "Prolongation\n",
       "0               19631\n",
       "1                5734\n",
       "2                2022\n",
       "3                 790\n",
       "Name: count, dtype: int64"
      ]
     },
     "execution_count": 12,
     "metadata": {},
     "output_type": "execute_result"
    }
   ],
   "source": [
    "data_sep28k_labels[[\"Prolongation\"]].value_counts()"
   ]
  },
  {
   "cell_type": "markdown",
   "id": "c54a4dd7-c457-48cc-b3f6-1d528ab5a7c4",
   "metadata": {},
   "source": [
    "### Create unique audio id column 'Name'"
   ]
  },
  {
   "cell_type": "code",
   "execution_count": 13,
   "id": "862a50ca-1507-418c-a782-e769ba46e69b",
   "metadata": {},
   "outputs": [
    {
     "data": {
      "text/html": [
       "<div>\n",
       "<style scoped>\n",
       "    .dataframe tbody tr th:only-of-type {\n",
       "        vertical-align: middle;\n",
       "    }\n",
       "\n",
       "    .dataframe tbody tr th {\n",
       "        vertical-align: top;\n",
       "    }\n",
       "\n",
       "    .dataframe thead th {\n",
       "        text-align: right;\n",
       "    }\n",
       "</style>\n",
       "<table border=\"1\" class=\"dataframe\">\n",
       "  <thead>\n",
       "    <tr style=\"text-align: right;\">\n",
       "      <th></th>\n",
       "      <th>Show</th>\n",
       "      <th>EpId</th>\n",
       "      <th>ClipId</th>\n",
       "      <th>Start</th>\n",
       "      <th>Stop</th>\n",
       "      <th>Unsure</th>\n",
       "      <th>PoorAudioQuality</th>\n",
       "      <th>Prolongation</th>\n",
       "      <th>Block</th>\n",
       "      <th>SoundRep</th>\n",
       "      <th>WordRep</th>\n",
       "      <th>DifficultToUnderstand</th>\n",
       "      <th>Interjection</th>\n",
       "      <th>NoStutteredWords</th>\n",
       "      <th>NaturalPause</th>\n",
       "      <th>Music</th>\n",
       "      <th>NoSpeech</th>\n",
       "      <th>Name</th>\n",
       "    </tr>\n",
       "  </thead>\n",
       "  <tbody>\n",
       "    <tr>\n",
       "      <th>0</th>\n",
       "      <td>HeStutters</td>\n",
       "      <td>0</td>\n",
       "      <td>0</td>\n",
       "      <td>31900320</td>\n",
       "      <td>31948320</td>\n",
       "      <td>0</td>\n",
       "      <td>0</td>\n",
       "      <td>0</td>\n",
       "      <td>0</td>\n",
       "      <td>0</td>\n",
       "      <td>0</td>\n",
       "      <td>0</td>\n",
       "      <td>0</td>\n",
       "      <td>3</td>\n",
       "      <td>1</td>\n",
       "      <td>0</td>\n",
       "      <td>0</td>\n",
       "      <td>HeStutters_0_0</td>\n",
       "    </tr>\n",
       "    <tr>\n",
       "      <th>1</th>\n",
       "      <td>HeStutters</td>\n",
       "      <td>0</td>\n",
       "      <td>1</td>\n",
       "      <td>31977120</td>\n",
       "      <td>32025120</td>\n",
       "      <td>0</td>\n",
       "      <td>0</td>\n",
       "      <td>0</td>\n",
       "      <td>0</td>\n",
       "      <td>0</td>\n",
       "      <td>0</td>\n",
       "      <td>0</td>\n",
       "      <td>0</td>\n",
       "      <td>3</td>\n",
       "      <td>1</td>\n",
       "      <td>0</td>\n",
       "      <td>0</td>\n",
       "      <td>HeStutters_0_1</td>\n",
       "    </tr>\n",
       "    <tr>\n",
       "      <th>2</th>\n",
       "      <td>HeStutters</td>\n",
       "      <td>0</td>\n",
       "      <td>2</td>\n",
       "      <td>34809760</td>\n",
       "      <td>34857760</td>\n",
       "      <td>0</td>\n",
       "      <td>0</td>\n",
       "      <td>0</td>\n",
       "      <td>0</td>\n",
       "      <td>0</td>\n",
       "      <td>0</td>\n",
       "      <td>0</td>\n",
       "      <td>0</td>\n",
       "      <td>3</td>\n",
       "      <td>0</td>\n",
       "      <td>0</td>\n",
       "      <td>0</td>\n",
       "      <td>HeStutters_0_2</td>\n",
       "    </tr>\n",
       "    <tr>\n",
       "      <th>3</th>\n",
       "      <td>HeStutters</td>\n",
       "      <td>0</td>\n",
       "      <td>3</td>\n",
       "      <td>35200640</td>\n",
       "      <td>35248640</td>\n",
       "      <td>0</td>\n",
       "      <td>0</td>\n",
       "      <td>1</td>\n",
       "      <td>0</td>\n",
       "      <td>0</td>\n",
       "      <td>0</td>\n",
       "      <td>0</td>\n",
       "      <td>0</td>\n",
       "      <td>2</td>\n",
       "      <td>0</td>\n",
       "      <td>0</td>\n",
       "      <td>0</td>\n",
       "      <td>HeStutters_0_3</td>\n",
       "    </tr>\n",
       "    <tr>\n",
       "      <th>4</th>\n",
       "      <td>HeStutters</td>\n",
       "      <td>0</td>\n",
       "      <td>4</td>\n",
       "      <td>35721920</td>\n",
       "      <td>35769920</td>\n",
       "      <td>0</td>\n",
       "      <td>0</td>\n",
       "      <td>0</td>\n",
       "      <td>0</td>\n",
       "      <td>0</td>\n",
       "      <td>0</td>\n",
       "      <td>0</td>\n",
       "      <td>0</td>\n",
       "      <td>3</td>\n",
       "      <td>0</td>\n",
       "      <td>0</td>\n",
       "      <td>0</td>\n",
       "      <td>HeStutters_0_4</td>\n",
       "    </tr>\n",
       "  </tbody>\n",
       "</table>\n",
       "</div>"
      ],
      "text/plain": [
       "         Show  EpId  ClipId     Start      Stop  Unsure  PoorAudioQuality  \\\n",
       "0  HeStutters     0       0  31900320  31948320       0                 0   \n",
       "1  HeStutters     0       1  31977120  32025120       0                 0   \n",
       "2  HeStutters     0       2  34809760  34857760       0                 0   \n",
       "3  HeStutters     0       3  35200640  35248640       0                 0   \n",
       "4  HeStutters     0       4  35721920  35769920       0                 0   \n",
       "\n",
       "   Prolongation  Block  SoundRep  WordRep  DifficultToUnderstand  \\\n",
       "0             0      0         0        0                      0   \n",
       "1             0      0         0        0                      0   \n",
       "2             0      0         0        0                      0   \n",
       "3             1      0         0        0                      0   \n",
       "4             0      0         0        0                      0   \n",
       "\n",
       "   Interjection  NoStutteredWords  NaturalPause  Music  NoSpeech  \\\n",
       "0             0                 3             1      0         0   \n",
       "1             0                 3             1      0         0   \n",
       "2             0                 3             0      0         0   \n",
       "3             0                 2             0      0         0   \n",
       "4             0                 3             0      0         0   \n",
       "\n",
       "             Name  \n",
       "0  HeStutters_0_0  \n",
       "1  HeStutters_0_1  \n",
       "2  HeStutters_0_2  \n",
       "3  HeStutters_0_3  \n",
       "4  HeStutters_0_4  "
      ]
     },
     "execution_count": 13,
     "metadata": {},
     "output_type": "execute_result"
    }
   ],
   "source": [
    "data_sep28k_labels['Name'] = data_sep28k_labels[data_sep28k_labels.columns[0:3]].apply(\n",
    "    lambda x: '_'.join(x.dropna().astype(str)),\n",
    "    axis=1\n",
    ")\n",
    "data_sep28k_labels.head(5)"
   ]
  },
  {
   "cell_type": "markdown",
   "id": "e1821f8e-cc35-49a0-8063-963f93bc71cd",
   "metadata": {},
   "source": [
    "### Create isStutter columns"
   ]
  },
  {
   "cell_type": "markdown",
   "id": "504958d5-c68b-4df9-9686-a68319fe3106",
   "metadata": {},
   "source": [
    "1. 'isStutter_by_all_reviewers' column : NoStutteredWords is 1 or 2 or 3 (1 or more reviewers think it is stuttered) \n",
    "2. 'isStutter_by_2_more_reviewers' column : NoStutteredWords is 2 or 3 (at least 2 reviewers think it is stuttered) "
   ]
  },
  {
   "cell_type": "code",
   "execution_count": 14,
   "id": "ccb2f8ab-e942-4d37-97ab-606e062bccfb",
   "metadata": {},
   "outputs": [],
   "source": [
    "data_sep28k_labels['isStutter_by_all_reviewers'] = \"\"\n",
    "data_sep28k_labels['isStutter_by_2_more_reviewers'] = \"\""
   ]
  },
  {
   "cell_type": "code",
   "execution_count": 15,
   "id": "073c0efb-8f7b-4663-ae6f-7d10413b2e83",
   "metadata": {},
   "outputs": [
    {
     "data": {
      "text/plain": [
       "isStutter_by_2_more_reviewers\n",
       "1                                16046\n",
       "0                                12131\n",
       "Name: count, dtype: int64"
      ]
     },
     "execution_count": 15,
     "metadata": {},
     "output_type": "execute_result"
    }
   ],
   "source": [
    "data_sep28k_labels.loc[data_sep28k_labels[\"NoStutteredWords\"] <= 1.0, \"isStutter_by_2_more_reviewers\"] = 0\n",
    "data_sep28k_labels.loc[data_sep28k_labels[\"NoStutteredWords\"] >= 2.0, \"isStutter_by_2_more_reviewers\"] = 1\n",
    "data_sep28k_labels[[\"isStutter_by_2_more_reviewers\"]].value_counts()"
   ]
  },
  {
   "cell_type": "code",
   "execution_count": 16,
   "id": "72026ca2-5b8b-41ef-aa6c-d9ae347262b3",
   "metadata": {},
   "outputs": [],
   "source": [
    "# data_sep28k_labels.head(20)"
   ]
  },
  {
   "cell_type": "code",
   "execution_count": 17,
   "id": "7df11111-6156-4a83-bb6c-4f28749e76e5",
   "metadata": {},
   "outputs": [
    {
     "data": {
      "text/plain": [
       "isStutter_by_all_reviewers\n",
       "1                             21372\n",
       "0                              6805\n",
       "Name: count, dtype: int64"
      ]
     },
     "execution_count": 17,
     "metadata": {},
     "output_type": "execute_result"
    }
   ],
   "source": [
    "data_sep28k_labels.loc[data_sep28k_labels[\"NoStutteredWords\"] == 0, \"isStutter_by_all_reviewers\"] = 0\n",
    "data_sep28k_labels.loc[data_sep28k_labels[\"NoStutteredWords\"] > 0, \"isStutter_by_all_reviewers\"] = 1\n",
    "data_sep28k_labels[[\"isStutter_by_all_reviewers\"]].value_counts()"
   ]
  },
  {
   "cell_type": "code",
   "execution_count": 18,
   "id": "6a7caf21-6782-4050-a10a-74872ef95977",
   "metadata": {},
   "outputs": [
    {
     "data": {
      "text/html": [
       "<div>\n",
       "<style scoped>\n",
       "    .dataframe tbody tr th:only-of-type {\n",
       "        vertical-align: middle;\n",
       "    }\n",
       "\n",
       "    .dataframe tbody tr th {\n",
       "        vertical-align: top;\n",
       "    }\n",
       "\n",
       "    .dataframe thead th {\n",
       "        text-align: right;\n",
       "    }\n",
       "</style>\n",
       "<table border=\"1\" class=\"dataframe\">\n",
       "  <thead>\n",
       "    <tr style=\"text-align: right;\">\n",
       "      <th></th>\n",
       "      <th>Show</th>\n",
       "      <th>EpId</th>\n",
       "      <th>ClipId</th>\n",
       "      <th>Start</th>\n",
       "      <th>Stop</th>\n",
       "      <th>Unsure</th>\n",
       "      <th>PoorAudioQuality</th>\n",
       "      <th>Prolongation</th>\n",
       "      <th>Block</th>\n",
       "      <th>SoundRep</th>\n",
       "      <th>WordRep</th>\n",
       "      <th>DifficultToUnderstand</th>\n",
       "      <th>Interjection</th>\n",
       "      <th>NoStutteredWords</th>\n",
       "      <th>NaturalPause</th>\n",
       "      <th>Music</th>\n",
       "      <th>NoSpeech</th>\n",
       "      <th>Name</th>\n",
       "      <th>isStutter_by_all_reviewers</th>\n",
       "      <th>isStutter_by_2_more_reviewers</th>\n",
       "    </tr>\n",
       "  </thead>\n",
       "  <tbody>\n",
       "    <tr>\n",
       "      <th>0</th>\n",
       "      <td>HeStutters</td>\n",
       "      <td>0</td>\n",
       "      <td>0</td>\n",
       "      <td>31900320</td>\n",
       "      <td>31948320</td>\n",
       "      <td>0</td>\n",
       "      <td>0</td>\n",
       "      <td>0</td>\n",
       "      <td>0</td>\n",
       "      <td>0</td>\n",
       "      <td>0</td>\n",
       "      <td>0</td>\n",
       "      <td>0</td>\n",
       "      <td>3</td>\n",
       "      <td>1</td>\n",
       "      <td>0</td>\n",
       "      <td>0</td>\n",
       "      <td>HeStutters_0_0</td>\n",
       "      <td>1</td>\n",
       "      <td>1</td>\n",
       "    </tr>\n",
       "    <tr>\n",
       "      <th>1</th>\n",
       "      <td>HeStutters</td>\n",
       "      <td>0</td>\n",
       "      <td>1</td>\n",
       "      <td>31977120</td>\n",
       "      <td>32025120</td>\n",
       "      <td>0</td>\n",
       "      <td>0</td>\n",
       "      <td>0</td>\n",
       "      <td>0</td>\n",
       "      <td>0</td>\n",
       "      <td>0</td>\n",
       "      <td>0</td>\n",
       "      <td>0</td>\n",
       "      <td>3</td>\n",
       "      <td>1</td>\n",
       "      <td>0</td>\n",
       "      <td>0</td>\n",
       "      <td>HeStutters_0_1</td>\n",
       "      <td>1</td>\n",
       "      <td>1</td>\n",
       "    </tr>\n",
       "    <tr>\n",
       "      <th>2</th>\n",
       "      <td>HeStutters</td>\n",
       "      <td>0</td>\n",
       "      <td>2</td>\n",
       "      <td>34809760</td>\n",
       "      <td>34857760</td>\n",
       "      <td>0</td>\n",
       "      <td>0</td>\n",
       "      <td>0</td>\n",
       "      <td>0</td>\n",
       "      <td>0</td>\n",
       "      <td>0</td>\n",
       "      <td>0</td>\n",
       "      <td>0</td>\n",
       "      <td>3</td>\n",
       "      <td>0</td>\n",
       "      <td>0</td>\n",
       "      <td>0</td>\n",
       "      <td>HeStutters_0_2</td>\n",
       "      <td>1</td>\n",
       "      <td>1</td>\n",
       "    </tr>\n",
       "    <tr>\n",
       "      <th>3</th>\n",
       "      <td>HeStutters</td>\n",
       "      <td>0</td>\n",
       "      <td>3</td>\n",
       "      <td>35200640</td>\n",
       "      <td>35248640</td>\n",
       "      <td>0</td>\n",
       "      <td>0</td>\n",
       "      <td>1</td>\n",
       "      <td>0</td>\n",
       "      <td>0</td>\n",
       "      <td>0</td>\n",
       "      <td>0</td>\n",
       "      <td>0</td>\n",
       "      <td>2</td>\n",
       "      <td>0</td>\n",
       "      <td>0</td>\n",
       "      <td>0</td>\n",
       "      <td>HeStutters_0_3</td>\n",
       "      <td>1</td>\n",
       "      <td>1</td>\n",
       "    </tr>\n",
       "    <tr>\n",
       "      <th>4</th>\n",
       "      <td>HeStutters</td>\n",
       "      <td>0</td>\n",
       "      <td>4</td>\n",
       "      <td>35721920</td>\n",
       "      <td>35769920</td>\n",
       "      <td>0</td>\n",
       "      <td>0</td>\n",
       "      <td>0</td>\n",
       "      <td>0</td>\n",
       "      <td>0</td>\n",
       "      <td>0</td>\n",
       "      <td>0</td>\n",
       "      <td>0</td>\n",
       "      <td>3</td>\n",
       "      <td>0</td>\n",
       "      <td>0</td>\n",
       "      <td>0</td>\n",
       "      <td>HeStutters_0_4</td>\n",
       "      <td>1</td>\n",
       "      <td>1</td>\n",
       "    </tr>\n",
       "  </tbody>\n",
       "</table>\n",
       "</div>"
      ],
      "text/plain": [
       "         Show  EpId  ClipId     Start      Stop  Unsure  PoorAudioQuality  \\\n",
       "0  HeStutters     0       0  31900320  31948320       0                 0   \n",
       "1  HeStutters     0       1  31977120  32025120       0                 0   \n",
       "2  HeStutters     0       2  34809760  34857760       0                 0   \n",
       "3  HeStutters     0       3  35200640  35248640       0                 0   \n",
       "4  HeStutters     0       4  35721920  35769920       0                 0   \n",
       "\n",
       "   Prolongation  Block  SoundRep  WordRep  DifficultToUnderstand  \\\n",
       "0             0      0         0        0                      0   \n",
       "1             0      0         0        0                      0   \n",
       "2             0      0         0        0                      0   \n",
       "3             1      0         0        0                      0   \n",
       "4             0      0         0        0                      0   \n",
       "\n",
       "   Interjection  NoStutteredWords  NaturalPause  Music  NoSpeech  \\\n",
       "0             0                 3             1      0         0   \n",
       "1             0                 3             1      0         0   \n",
       "2             0                 3             0      0         0   \n",
       "3             0                 2             0      0         0   \n",
       "4             0                 3             0      0         0   \n",
       "\n",
       "             Name isStutter_by_all_reviewers isStutter_by_2_more_reviewers  \n",
       "0  HeStutters_0_0                          1                             1  \n",
       "1  HeStutters_0_1                          1                             1  \n",
       "2  HeStutters_0_2                          1                             1  \n",
       "3  HeStutters_0_3                          1                             1  \n",
       "4  HeStutters_0_4                          1                             1  "
      ]
     },
     "execution_count": 18,
     "metadata": {},
     "output_type": "execute_result"
    }
   ],
   "source": [
    "data_sep28k_labels.head(5)"
   ]
  },
  {
   "cell_type": "markdown",
   "id": "07798d3f-c7e0-42fc-ad4a-d7de05e10c4c",
   "metadata": {},
   "source": [
    "### Encode Interjection, NaturalPause, Music columns"
   ]
  },
  {
   "cell_type": "code",
   "execution_count": 19,
   "id": "c7061a6f-35f3-4327-b5b7-3e76e5de67fc",
   "metadata": {},
   "outputs": [
    {
     "data": {
      "text/plain": [
       "(28177, 20)"
      ]
     },
     "execution_count": 19,
     "metadata": {},
     "output_type": "execute_result"
    }
   ],
   "source": [
    "data_sep28k_labels.shape"
   ]
  },
  {
   "cell_type": "code",
   "execution_count": 20,
   "id": "7fbb3bd4-bdcb-4624-91cd-e4115b218529",
   "metadata": {},
   "outputs": [
    {
     "data": {
      "text/plain": [
       "(28177, 3)"
      ]
     },
     "execution_count": 20,
     "metadata": {},
     "output_type": "execute_result"
    }
   ],
   "source": [
    "from sklearn.preprocessing import Binarizer\n",
    "column_names = [\"Music\", \"Interjection\", \"NaturalPause\"]\n",
    "column_names_after_encoded = [\"MusicEncoded\", \"InterjectionEncoded\", \"NaturalPauseEncoded\"]\n",
    "temp_data = data_sep28k_labels[column_names]\n",
    "binarizer = Binarizer(threshold=0.0).fit(temp_data)\n",
    "temp_data_binarizered = pd.DataFrame(binarizer.transform(temp_data), columns=column_names_after_encoded)\n",
    "temp_data_binarizered.shape"
   ]
  },
  {
   "cell_type": "code",
   "execution_count": 21,
   "id": "beeafaaf-cc4c-446e-9600-63942022b3d3",
   "metadata": {},
   "outputs": [],
   "source": [
    "data_sep28k_labels = pd.concat([data_sep28k_labels, temp_data_binarizered], axis=1)"
   ]
  },
  {
   "cell_type": "code",
   "execution_count": 22,
   "id": "9bce7f6e-f64c-4921-88b4-376e2aef9b87",
   "metadata": {},
   "outputs": [
    {
     "data": {
      "text/plain": [
       "Music\n",
       "0        27781\n",
       "3          199\n",
       "2           99\n",
       "1           98\n",
       "Name: count, dtype: int64"
      ]
     },
     "execution_count": 22,
     "metadata": {},
     "output_type": "execute_result"
    }
   ],
   "source": [
    "data_sep28k_labels[[\"Music\"]].value_counts() # For comparison purpose"
   ]
  },
  {
   "cell_type": "code",
   "execution_count": 23,
   "id": "3f9a6c29-0add-47c1-9d6f-fad9ed52bb5a",
   "metadata": {},
   "outputs": [
    {
     "data": {
      "text/plain": [
       "MusicEncoded\n",
       "0               27781\n",
       "1                 396\n",
       "Name: count, dtype: int64"
      ]
     },
     "execution_count": 23,
     "metadata": {},
     "output_type": "execute_result"
    }
   ],
   "source": [
    "data_sep28k_labels[[\"MusicEncoded\"]].value_counts() # For comparison purpose"
   ]
  },
  {
   "cell_type": "code",
   "execution_count": 24,
   "id": "eec988e8-af18-4eff-9667-bada5b885f85",
   "metadata": {},
   "outputs": [],
   "source": [
    "data_sep28k_labels.drop(column_names, axis=1,inplace=True)"
   ]
  },
  {
   "cell_type": "markdown",
   "id": "6054cdeb-6def-4681-8109-e0d740fb8974",
   "metadata": {},
   "source": [
    "### Drop rows in which Unsure, PoorAudioQuality, DifficultToUnderstand, NoSpeech is not 0"
   ]
  },
  {
   "cell_type": "code",
   "execution_count": 25,
   "id": "91c55278-3211-4985-9e5a-7f81fec6e116",
   "metadata": {},
   "outputs": [
    {
     "data": {
      "text/plain": [
       "(28177, 20)"
      ]
     },
     "execution_count": 25,
     "metadata": {},
     "output_type": "execute_result"
    }
   ],
   "source": [
    "data_sep28k_labels.shape"
   ]
  },
  {
   "cell_type": "code",
   "execution_count": 26,
   "id": "fbff40d3-7a7a-4a3a-8d39-95462c86bd68",
   "metadata": {},
   "outputs": [
    {
     "data": {
      "text/plain": [
       "(21090, 20)"
      ]
     },
     "execution_count": 26,
     "metadata": {},
     "output_type": "execute_result"
    }
   ],
   "source": [
    "data_sep28k_labels = data_sep28k_labels[data_sep28k_labels[\"Unsure\"] == 0]\n",
    "data_sep28k_labels = data_sep28k_labels[data_sep28k_labels[\"PoorAudioQuality\"] == 0]\n",
    "data_sep28k_labels = data_sep28k_labels[data_sep28k_labels[\"DifficultToUnderstand\"] == 0]\n",
    "data_sep28k_labels = data_sep28k_labels[data_sep28k_labels[\"NoSpeech\"] == 0]\n",
    "\n",
    "data_sep28k_labels.shape"
   ]
  },
  {
   "cell_type": "markdown",
   "id": "c0f27c73-f025-4491-82d6-5b124929dfb1",
   "metadata": {},
   "source": [
    "### Drop unused columns"
   ]
  },
  {
   "cell_type": "code",
   "execution_count": 27,
   "id": "6f1801d9-7df3-4888-b6fc-27a7ae1f3ec0",
   "metadata": {},
   "outputs": [],
   "source": [
    "data_sep28k_labels.drop(['Prolongation', 'Block', 'SoundRep', 'WordRep', 'NoStutteredWords'], axis=1,inplace=True)\n",
    "data_sep28k_labels.drop(['Unsure', 'PoorAudioQuality', 'DifficultToUnderstand', 'NoSpeech'], axis=1, inplace=True)\n",
    "data_sep28k_labels.drop(['Show', 'EpId', 'ClipId', 'Start', 'Stop'], axis=1, inplace=True)\n"
   ]
  },
  {
   "cell_type": "code",
   "execution_count": 28,
   "id": "709c425d-4ad1-4f3c-a971-6bda4d99cf6e",
   "metadata": {},
   "outputs": [
    {
     "data": {
      "text/plain": [
       "(21090, 6)"
      ]
     },
     "execution_count": 28,
     "metadata": {},
     "output_type": "execute_result"
    }
   ],
   "source": [
    "data_sep28k_labels.shape"
   ]
  },
  {
   "cell_type": "code",
   "execution_count": 29,
   "id": "6fa46a2c-6a79-41de-98e6-cd748d84c3de",
   "metadata": {},
   "outputs": [
    {
     "data": {
      "text/html": [
       "<div>\n",
       "<style scoped>\n",
       "    .dataframe tbody tr th:only-of-type {\n",
       "        vertical-align: middle;\n",
       "    }\n",
       "\n",
       "    .dataframe tbody tr th {\n",
       "        vertical-align: top;\n",
       "    }\n",
       "\n",
       "    .dataframe thead th {\n",
       "        text-align: right;\n",
       "    }\n",
       "</style>\n",
       "<table border=\"1\" class=\"dataframe\">\n",
       "  <thead>\n",
       "    <tr style=\"text-align: right;\">\n",
       "      <th></th>\n",
       "      <th>Name</th>\n",
       "      <th>isStutter_by_all_reviewers</th>\n",
       "      <th>isStutter_by_2_more_reviewers</th>\n",
       "      <th>MusicEncoded</th>\n",
       "      <th>InterjectionEncoded</th>\n",
       "      <th>NaturalPauseEncoded</th>\n",
       "    </tr>\n",
       "  </thead>\n",
       "  <tbody>\n",
       "    <tr>\n",
       "      <th>0</th>\n",
       "      <td>HeStutters_0_0</td>\n",
       "      <td>1</td>\n",
       "      <td>1</td>\n",
       "      <td>0</td>\n",
       "      <td>0</td>\n",
       "      <td>1</td>\n",
       "    </tr>\n",
       "    <tr>\n",
       "      <th>1</th>\n",
       "      <td>HeStutters_0_1</td>\n",
       "      <td>1</td>\n",
       "      <td>1</td>\n",
       "      <td>0</td>\n",
       "      <td>0</td>\n",
       "      <td>1</td>\n",
       "    </tr>\n",
       "    <tr>\n",
       "      <th>2</th>\n",
       "      <td>HeStutters_0_2</td>\n",
       "      <td>1</td>\n",
       "      <td>1</td>\n",
       "      <td>0</td>\n",
       "      <td>0</td>\n",
       "      <td>0</td>\n",
       "    </tr>\n",
       "    <tr>\n",
       "      <th>3</th>\n",
       "      <td>HeStutters_0_3</td>\n",
       "      <td>1</td>\n",
       "      <td>1</td>\n",
       "      <td>0</td>\n",
       "      <td>0</td>\n",
       "      <td>0</td>\n",
       "    </tr>\n",
       "    <tr>\n",
       "      <th>4</th>\n",
       "      <td>HeStutters_0_4</td>\n",
       "      <td>1</td>\n",
       "      <td>1</td>\n",
       "      <td>0</td>\n",
       "      <td>0</td>\n",
       "      <td>0</td>\n",
       "    </tr>\n",
       "  </tbody>\n",
       "</table>\n",
       "</div>"
      ],
      "text/plain": [
       "             Name isStutter_by_all_reviewers isStutter_by_2_more_reviewers  \\\n",
       "0  HeStutters_0_0                          1                             1   \n",
       "1  HeStutters_0_1                          1                             1   \n",
       "2  HeStutters_0_2                          1                             1   \n",
       "3  HeStutters_0_3                          1                             1   \n",
       "4  HeStutters_0_4                          1                             1   \n",
       "\n",
       "   MusicEncoded  InterjectionEncoded  NaturalPauseEncoded  \n",
       "0             0                    0                    1  \n",
       "1             0                    0                    1  \n",
       "2             0                    0                    0  \n",
       "3             0                    0                    0  \n",
       "4             0                    0                    0  "
      ]
     },
     "execution_count": 29,
     "metadata": {},
     "output_type": "execute_result"
    }
   ],
   "source": [
    "data_sep28k_labels.head(5)"
   ]
  },
  {
   "cell_type": "markdown",
   "id": "e6bb048f-0ab6-4c2e-8e07-f265039ae70a",
   "metadata": {},
   "source": [
    "## 2. Audio File Data Process"
   ]
  },
  {
   "cell_type": "code",
   "execution_count": 30,
   "id": "e9596def-34c7-41c1-9567-cfa8fc7dd7b1",
   "metadata": {},
   "outputs": [],
   "source": [
    "import librosa\n",
    "import numpy as np\n",
    "from tqdm.notebook import tqdm\n",
    "import os"
   ]
  },
  {
   "cell_type": "code",
   "execution_count": 31,
   "id": "a7de3ff7-eccd-4443-bad5-5780994992be",
   "metadata": {},
   "outputs": [],
   "source": [
    "features={}"
   ]
  },
  {
   "cell_type": "code",
   "execution_count": 32,
   "id": "5ea21da2-73d7-4189-9883-c6eaff20c692",
   "metadata": {},
   "outputs": [
    {
     "data": {
      "application/vnd.jupyter.widget-view+json": {
       "model_id": "ac1edd57128e4879950b8089563f394e",
       "version_major": 2,
       "version_minor": 0
      },
      "text/plain": [
       "  0%|          | 0/1 [00:00<?, ?it/s]"
      ]
     },
     "metadata": {},
     "output_type": "display_data"
    },
    {
     "name": "stdout",
     "output_type": "stream",
     "text": [
      "HeStutters_0_0\n"
     ]
    }
   ],
   "source": [
    "directory = os.path.join(os.pardir,os.pardir, 'clips') # clips folder is not in Smooth-Talk-Squad folder\n",
    "'''\n",
    "├── clips\n",
    "    ├── HeStutters_0_0.wav\n",
    "└── Smooth-Talk-Squad\n",
    "    ├── raw_data\n",
    "        ├── SEP-28k_labels.csv\n",
    "    └── notebooks\n",
    "        ├── data-processing.ipynb\n",
    "'''\n",
    "ignore_list = []\n",
    "for filename in tqdm(os.listdir(directory)):\n",
    "    filename = filename[:-4] # Remove file extension (.wav in our situation)\n",
    "    print(filename)\n",
    "    if ignore_list.count(filename) == 0:\n",
    "        audio, sample_rate = librosa.load(os.path.join(directory, filename) + '.wav', res_type='kaiser_fast', sr=None)\n",
    "        mfccs = np.mean(librosa.feature.mfcc(y=audio, sr=sample_rate, n_mfcc=40).T,axis=0)\n",
    "        features[filename] = mfccs"
   ]
  },
  {
   "cell_type": "code",
   "execution_count": 33,
   "id": "8f2e274f-aa33-433f-8d9e-b50f673966d4",
   "metadata": {},
   "outputs": [
    {
     "data": {
      "text/plain": [
       "{'HeStutters_0_0': array([-3.9217270e+02,  6.3350628e+01,  4.8332834e+00,  6.9779840e+00,\n",
       "         2.1696117e+00, -3.5743895e+00, -7.0913873e+00, -1.9783952e+00,\n",
       "        -8.9845819e+00, -4.7242465e+00, -3.3452766e+00, -6.5738153e+00,\n",
       "        -7.0268269e+00, -7.4578005e-01, -5.3784409e+00, -2.5886452e+00,\n",
       "        -3.6963844e+00, -2.4798405e+00, -5.2713332e+00, -1.9026902e+00,\n",
       "        -4.3867741e+00, -3.5050061e+00, -4.2800155e+00, -3.9538312e+00,\n",
       "        -2.0943983e+00, -2.7127795e+00, -3.4109273e+00, -3.4360785e+00,\n",
       "        -3.9724562e+00, -3.7955062e+00, -6.4136357e+00, -4.3933554e+00,\n",
       "        -6.8520637e+00, -1.3455036e+00, -2.4144375e+00, -1.3912545e-01,\n",
       "        -3.2510958e+00, -1.0767114e+00, -3.1128201e+00, -6.9624156e-01],\n",
       "       dtype=float32)}"
      ]
     },
     "execution_count": 33,
     "metadata": {},
     "output_type": "execute_result"
    }
   ],
   "source": [
    "features"
   ]
  },
  {
   "cell_type": "code",
   "execution_count": 34,
   "id": "910f552b-3ec6-48af-89b2-149c37a833a4",
   "metadata": {},
   "outputs": [
    {
     "data": {
      "text/html": [
       "<div>\n",
       "<style scoped>\n",
       "    .dataframe tbody tr th:only-of-type {\n",
       "        vertical-align: middle;\n",
       "    }\n",
       "\n",
       "    .dataframe tbody tr th {\n",
       "        vertical-align: top;\n",
       "    }\n",
       "\n",
       "    .dataframe thead th {\n",
       "        text-align: right;\n",
       "    }\n",
       "</style>\n",
       "<table border=\"1\" class=\"dataframe\">\n",
       "  <thead>\n",
       "    <tr style=\"text-align: right;\">\n",
       "      <th></th>\n",
       "      <th>index</th>\n",
       "      <th>0</th>\n",
       "      <th>1</th>\n",
       "      <th>2</th>\n",
       "      <th>3</th>\n",
       "      <th>4</th>\n",
       "      <th>5</th>\n",
       "      <th>6</th>\n",
       "      <th>7</th>\n",
       "      <th>8</th>\n",
       "      <th>...</th>\n",
       "      <th>30</th>\n",
       "      <th>31</th>\n",
       "      <th>32</th>\n",
       "      <th>33</th>\n",
       "      <th>34</th>\n",
       "      <th>35</th>\n",
       "      <th>36</th>\n",
       "      <th>37</th>\n",
       "      <th>38</th>\n",
       "      <th>39</th>\n",
       "    </tr>\n",
       "  </thead>\n",
       "  <tbody>\n",
       "    <tr>\n",
       "      <th>0</th>\n",
       "      <td>HeStutters_0_0</td>\n",
       "      <td>-392.172699</td>\n",
       "      <td>63.350628</td>\n",
       "      <td>4.833283</td>\n",
       "      <td>6.977984</td>\n",
       "      <td>2.169612</td>\n",
       "      <td>-3.574389</td>\n",
       "      <td>-7.091387</td>\n",
       "      <td>-1.978395</td>\n",
       "      <td>-8.984582</td>\n",
       "      <td>...</td>\n",
       "      <td>-6.413636</td>\n",
       "      <td>-4.393355</td>\n",
       "      <td>-6.852064</td>\n",
       "      <td>-1.345504</td>\n",
       "      <td>-2.414438</td>\n",
       "      <td>-0.139125</td>\n",
       "      <td>-3.251096</td>\n",
       "      <td>-1.076711</td>\n",
       "      <td>-3.11282</td>\n",
       "      <td>-0.696242</td>\n",
       "    </tr>\n",
       "  </tbody>\n",
       "</table>\n",
       "<p>1 rows × 41 columns</p>\n",
       "</div>"
      ],
      "text/plain": [
       "            index           0          1         2         3         4  \\\n",
       "0  HeStutters_0_0 -392.172699  63.350628  4.833283  6.977984  2.169612   \n",
       "\n",
       "          5         6         7         8  ...        30        31        32  \\\n",
       "0 -3.574389 -7.091387 -1.978395 -8.984582  ... -6.413636 -4.393355 -6.852064   \n",
       "\n",
       "         33        34        35        36        37       38        39  \n",
       "0 -1.345504 -2.414438 -0.139125 -3.251096 -1.076711 -3.11282 -0.696242  \n",
       "\n",
       "[1 rows x 41 columns]"
      ]
     },
     "execution_count": 34,
     "metadata": {},
     "output_type": "execute_result"
    }
   ],
   "source": [
    "df_pro = pd.DataFrame.from_dict(features)\n",
    "df_pro=df_pro.transpose()\n",
    "df_pro = df_pro.reset_index()\n",
    "df_pro"
   ]
  },
  {
   "cell_type": "markdown",
   "id": "21f7e972-6bd2-4847-8fe7-b8eb345dfb98",
   "metadata": {},
   "source": [
    "## 3. Combine MCFF Datasets with Label Datasets"
   ]
  },
  {
   "cell_type": "code",
   "execution_count": 35,
   "id": "0f91b14f-fe04-4d38-bda2-0cce06f636bc",
   "metadata": {},
   "outputs": [
    {
     "data": {
      "text/html": [
       "<div>\n",
       "<style scoped>\n",
       "    .dataframe tbody tr th:only-of-type {\n",
       "        vertical-align: middle;\n",
       "    }\n",
       "\n",
       "    .dataframe tbody tr th {\n",
       "        vertical-align: top;\n",
       "    }\n",
       "\n",
       "    .dataframe thead th {\n",
       "        text-align: right;\n",
       "    }\n",
       "</style>\n",
       "<table border=\"1\" class=\"dataframe\">\n",
       "  <thead>\n",
       "    <tr style=\"text-align: right;\">\n",
       "      <th></th>\n",
       "      <th>index</th>\n",
       "      <th>0</th>\n",
       "      <th>1</th>\n",
       "      <th>2</th>\n",
       "      <th>3</th>\n",
       "      <th>4</th>\n",
       "      <th>5</th>\n",
       "      <th>6</th>\n",
       "      <th>7</th>\n",
       "      <th>8</th>\n",
       "      <th>...</th>\n",
       "      <th>30</th>\n",
       "      <th>31</th>\n",
       "      <th>32</th>\n",
       "      <th>33</th>\n",
       "      <th>34</th>\n",
       "      <th>35</th>\n",
       "      <th>36</th>\n",
       "      <th>37</th>\n",
       "      <th>38</th>\n",
       "      <th>39</th>\n",
       "    </tr>\n",
       "  </thead>\n",
       "  <tbody>\n",
       "    <tr>\n",
       "      <th>0</th>\n",
       "      <td>HeStutters_0_0</td>\n",
       "      <td>-392.172699</td>\n",
       "      <td>63.350628</td>\n",
       "      <td>4.833283</td>\n",
       "      <td>6.977984</td>\n",
       "      <td>2.169612</td>\n",
       "      <td>-3.574389</td>\n",
       "      <td>-7.091387</td>\n",
       "      <td>-1.978395</td>\n",
       "      <td>-8.984582</td>\n",
       "      <td>...</td>\n",
       "      <td>-6.413636</td>\n",
       "      <td>-4.393355</td>\n",
       "      <td>-6.852064</td>\n",
       "      <td>-1.345504</td>\n",
       "      <td>-2.414438</td>\n",
       "      <td>-0.139125</td>\n",
       "      <td>-3.251096</td>\n",
       "      <td>-1.076711</td>\n",
       "      <td>-3.11282</td>\n",
       "      <td>-0.696242</td>\n",
       "    </tr>\n",
       "  </tbody>\n",
       "</table>\n",
       "<p>1 rows × 41 columns</p>\n",
       "</div>"
      ],
      "text/plain": [
       "            index           0          1         2         3         4  \\\n",
       "0  HeStutters_0_0 -392.172699  63.350628  4.833283  6.977984  2.169612   \n",
       "\n",
       "          5         6         7         8  ...        30        31        32  \\\n",
       "0 -3.574389 -7.091387 -1.978395 -8.984582  ... -6.413636 -4.393355 -6.852064   \n",
       "\n",
       "         33        34        35        36        37       38        39  \n",
       "0 -1.345504 -2.414438 -0.139125 -3.251096 -1.076711 -3.11282 -0.696242  \n",
       "\n",
       "[1 rows x 41 columns]"
      ]
     },
     "execution_count": 35,
     "metadata": {},
     "output_type": "execute_result"
    }
   ],
   "source": [
    "df_pro"
   ]
  },
  {
   "cell_type": "code",
   "execution_count": 36,
   "id": "bd1ced7b-d891-494c-8f10-7d424375e89e",
   "metadata": {},
   "outputs": [
    {
     "data": {
      "text/plain": [
       "(1, 41)"
      ]
     },
     "execution_count": 36,
     "metadata": {},
     "output_type": "execute_result"
    }
   ],
   "source": [
    "df_pro.shape"
   ]
  },
  {
   "cell_type": "code",
   "execution_count": 37,
   "id": "5c35f2e5-2a5a-48b0-a60e-5715c150612a",
   "metadata": {},
   "outputs": [
    {
     "data": {
      "text/plain": [
       "(21090, 6)"
      ]
     },
     "execution_count": 37,
     "metadata": {},
     "output_type": "execute_result"
    }
   ],
   "source": [
    "data_sep28k_labels.shape"
   ]
  },
  {
   "cell_type": "code",
   "execution_count": 38,
   "id": "7678bbfd-67f2-4484-9a93-a7971da331e8",
   "metadata": {},
   "outputs": [
    {
     "data": {
      "text/plain": [
       "(21090, 46)"
      ]
     },
     "execution_count": 38,
     "metadata": {},
     "output_type": "execute_result"
    }
   ],
   "source": [
    "data = pd.merge(data_sep28k_labels, df_pro, left_on='Name', right_on='index', how='left')\n",
    "data.drop(['Name'], axis=1,inplace=True)\n",
    "data.shape"
   ]
  },
  {
   "cell_type": "code",
   "execution_count": 39,
   "id": "be921e03-b7a3-431c-a342-fc43fae9e4e6",
   "metadata": {},
   "outputs": [
    {
     "data": {
      "text/html": [
       "<div>\n",
       "<style scoped>\n",
       "    .dataframe tbody tr th:only-of-type {\n",
       "        vertical-align: middle;\n",
       "    }\n",
       "\n",
       "    .dataframe tbody tr th {\n",
       "        vertical-align: top;\n",
       "    }\n",
       "\n",
       "    .dataframe thead th {\n",
       "        text-align: right;\n",
       "    }\n",
       "</style>\n",
       "<table border=\"1\" class=\"dataframe\">\n",
       "  <thead>\n",
       "    <tr style=\"text-align: right;\">\n",
       "      <th></th>\n",
       "      <th>isStutter_by_all_reviewers</th>\n",
       "      <th>isStutter_by_2_more_reviewers</th>\n",
       "      <th>MusicEncoded</th>\n",
       "      <th>InterjectionEncoded</th>\n",
       "      <th>NaturalPauseEncoded</th>\n",
       "      <th>index</th>\n",
       "      <th>0</th>\n",
       "      <th>1</th>\n",
       "      <th>2</th>\n",
       "      <th>3</th>\n",
       "      <th>...</th>\n",
       "      <th>30</th>\n",
       "      <th>31</th>\n",
       "      <th>32</th>\n",
       "      <th>33</th>\n",
       "      <th>34</th>\n",
       "      <th>35</th>\n",
       "      <th>36</th>\n",
       "      <th>37</th>\n",
       "      <th>38</th>\n",
       "      <th>39</th>\n",
       "    </tr>\n",
       "  </thead>\n",
       "  <tbody>\n",
       "    <tr>\n",
       "      <th>0</th>\n",
       "      <td>1</td>\n",
       "      <td>1</td>\n",
       "      <td>0</td>\n",
       "      <td>0</td>\n",
       "      <td>1</td>\n",
       "      <td>HeStutters_0_0</td>\n",
       "      <td>-392.172699</td>\n",
       "      <td>63.350628</td>\n",
       "      <td>4.833283</td>\n",
       "      <td>6.977984</td>\n",
       "      <td>...</td>\n",
       "      <td>-6.413636</td>\n",
       "      <td>-4.393355</td>\n",
       "      <td>-6.852064</td>\n",
       "      <td>-1.345504</td>\n",
       "      <td>-2.414438</td>\n",
       "      <td>-0.139125</td>\n",
       "      <td>-3.251096</td>\n",
       "      <td>-1.076711</td>\n",
       "      <td>-3.11282</td>\n",
       "      <td>-0.696242</td>\n",
       "    </tr>\n",
       "    <tr>\n",
       "      <th>1</th>\n",
       "      <td>1</td>\n",
       "      <td>1</td>\n",
       "      <td>0</td>\n",
       "      <td>0</td>\n",
       "      <td>1</td>\n",
       "      <td>NaN</td>\n",
       "      <td>NaN</td>\n",
       "      <td>NaN</td>\n",
       "      <td>NaN</td>\n",
       "      <td>NaN</td>\n",
       "      <td>...</td>\n",
       "      <td>NaN</td>\n",
       "      <td>NaN</td>\n",
       "      <td>NaN</td>\n",
       "      <td>NaN</td>\n",
       "      <td>NaN</td>\n",
       "      <td>NaN</td>\n",
       "      <td>NaN</td>\n",
       "      <td>NaN</td>\n",
       "      <td>NaN</td>\n",
       "      <td>NaN</td>\n",
       "    </tr>\n",
       "    <tr>\n",
       "      <th>2</th>\n",
       "      <td>1</td>\n",
       "      <td>1</td>\n",
       "      <td>0</td>\n",
       "      <td>0</td>\n",
       "      <td>0</td>\n",
       "      <td>NaN</td>\n",
       "      <td>NaN</td>\n",
       "      <td>NaN</td>\n",
       "      <td>NaN</td>\n",
       "      <td>NaN</td>\n",
       "      <td>...</td>\n",
       "      <td>NaN</td>\n",
       "      <td>NaN</td>\n",
       "      <td>NaN</td>\n",
       "      <td>NaN</td>\n",
       "      <td>NaN</td>\n",
       "      <td>NaN</td>\n",
       "      <td>NaN</td>\n",
       "      <td>NaN</td>\n",
       "      <td>NaN</td>\n",
       "      <td>NaN</td>\n",
       "    </tr>\n",
       "    <tr>\n",
       "      <th>3</th>\n",
       "      <td>1</td>\n",
       "      <td>1</td>\n",
       "      <td>0</td>\n",
       "      <td>0</td>\n",
       "      <td>0</td>\n",
       "      <td>NaN</td>\n",
       "      <td>NaN</td>\n",
       "      <td>NaN</td>\n",
       "      <td>NaN</td>\n",
       "      <td>NaN</td>\n",
       "      <td>...</td>\n",
       "      <td>NaN</td>\n",
       "      <td>NaN</td>\n",
       "      <td>NaN</td>\n",
       "      <td>NaN</td>\n",
       "      <td>NaN</td>\n",
       "      <td>NaN</td>\n",
       "      <td>NaN</td>\n",
       "      <td>NaN</td>\n",
       "      <td>NaN</td>\n",
       "      <td>NaN</td>\n",
       "    </tr>\n",
       "    <tr>\n",
       "      <th>4</th>\n",
       "      <td>1</td>\n",
       "      <td>1</td>\n",
       "      <td>0</td>\n",
       "      <td>0</td>\n",
       "      <td>0</td>\n",
       "      <td>NaN</td>\n",
       "      <td>NaN</td>\n",
       "      <td>NaN</td>\n",
       "      <td>NaN</td>\n",
       "      <td>NaN</td>\n",
       "      <td>...</td>\n",
       "      <td>NaN</td>\n",
       "      <td>NaN</td>\n",
       "      <td>NaN</td>\n",
       "      <td>NaN</td>\n",
       "      <td>NaN</td>\n",
       "      <td>NaN</td>\n",
       "      <td>NaN</td>\n",
       "      <td>NaN</td>\n",
       "      <td>NaN</td>\n",
       "      <td>NaN</td>\n",
       "    </tr>\n",
       "  </tbody>\n",
       "</table>\n",
       "<p>5 rows × 46 columns</p>\n",
       "</div>"
      ],
      "text/plain": [
       "  isStutter_by_all_reviewers isStutter_by_2_more_reviewers  MusicEncoded  \\\n",
       "0                          1                             1             0   \n",
       "1                          1                             1             0   \n",
       "2                          1                             1             0   \n",
       "3                          1                             1             0   \n",
       "4                          1                             1             0   \n",
       "\n",
       "   InterjectionEncoded  NaturalPauseEncoded           index           0  \\\n",
       "0                    0                    1  HeStutters_0_0 -392.172699   \n",
       "1                    0                    1             NaN         NaN   \n",
       "2                    0                    0             NaN         NaN   \n",
       "3                    0                    0             NaN         NaN   \n",
       "4                    0                    0             NaN         NaN   \n",
       "\n",
       "           1         2         3  ...        30        31        32        33  \\\n",
       "0  63.350628  4.833283  6.977984  ... -6.413636 -4.393355 -6.852064 -1.345504   \n",
       "1        NaN       NaN       NaN  ...       NaN       NaN       NaN       NaN   \n",
       "2        NaN       NaN       NaN  ...       NaN       NaN       NaN       NaN   \n",
       "3        NaN       NaN       NaN  ...       NaN       NaN       NaN       NaN   \n",
       "4        NaN       NaN       NaN  ...       NaN       NaN       NaN       NaN   \n",
       "\n",
       "         34        35        36        37       38        39  \n",
       "0 -2.414438 -0.139125 -3.251096 -1.076711 -3.11282 -0.696242  \n",
       "1       NaN       NaN       NaN       NaN      NaN       NaN  \n",
       "2       NaN       NaN       NaN       NaN      NaN       NaN  \n",
       "3       NaN       NaN       NaN       NaN      NaN       NaN  \n",
       "4       NaN       NaN       NaN       NaN      NaN       NaN  \n",
       "\n",
       "[5 rows x 46 columns]"
      ]
     },
     "execution_count": 39,
     "metadata": {},
     "output_type": "execute_result"
    }
   ],
   "source": [
    "data.head(5)"
   ]
  },
  {
   "cell_type": "markdown",
   "id": "3dfebfc1-1fc0-4dd9-8e4b-f127040fc748",
   "metadata": {},
   "source": [
    "### Output Final CSV File "
   ]
  },
  {
   "cell_type": "code",
   "execution_count": 40,
   "id": "bbd618e7-4075-4f0d-ad2e-1d004f50df56",
   "metadata": {},
   "outputs": [],
   "source": [
    "raw_data_directory = os.path.join(os.pardir, 'raw_data')\n",
    "data.to_csv(os.path.join(raw_data_directory, 'final_data.csv'))"
   ]
  }
 ],
 "metadata": {
  "kernelspec": {
   "display_name": "Python 3 (ipykernel)",
   "language": "python",
   "name": "python3"
  },
  "language_info": {
   "codemirror_mode": {
    "name": "ipython",
    "version": 3
   },
   "file_extension": ".py",
   "mimetype": "text/x-python",
   "name": "python",
   "nbconvert_exporter": "python",
   "pygments_lexer": "ipython3",
   "version": "3.10.6"
  }
 },
 "nbformat": 4,
 "nbformat_minor": 5
}
